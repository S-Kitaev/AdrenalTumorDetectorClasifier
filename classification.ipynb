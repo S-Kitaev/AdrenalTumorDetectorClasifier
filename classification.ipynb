{
 "cells": [
  {
   "cell_type": "code",
   "execution_count": 1,
   "metadata": {
    "execution": {
     "iopub.execute_input": "2025-08-28T10:23:21.964439Z",
     "iopub.status.busy": "2025-08-28T10:23:21.963893Z",
     "iopub.status.idle": "2025-08-28T10:23:30.264534Z",
     "shell.execute_reply": "2025-08-28T10:23:30.263897Z",
     "shell.execute_reply.started": "2025-08-28T10:23:21.964412Z"
    },
    "trusted": true
   },
   "outputs": [
    {
     "name": "stdout",
     "output_type": "stream",
     "text": [
      "CUDA доступна\n",
      "Имя устройства: Tesla P100-PCIE-16GB\n",
      "Кол-во устройств: 1\n"
     ]
    }
   ],
   "source": [
    "import numpy as np\n",
    "import torch\n",
    "import torch.nn as nn\n",
    "from torch.utils.data import Dataset, DataLoader, WeightedRandomSampler\n",
    "from sklearn.model_selection import train_test_split\n",
    "from sklearn.metrics import classification_report, confusion_matrix, accuracy_score\n",
    "import matplotlib.pyplot as plt\n",
    "import seaborn as sns\n",
    "from tqdm import tqdm\n",
    "import warnings\n",
    "warnings.filterwarnings(\"ignore\")\n",
    "import os\n",
    "from torchvision import transforms\n",
    "import torchvision.models as models\n",
    "\n",
    "# Проверка доступности CUDA\n",
    "if torch.cuda.is_available():\n",
    "    print(\"CUDA доступна\")\n",
    "    print(\"Имя устройства:\", torch.cuda.get_device_name(0))\n",
    "    print(\"Кол-во устройств:\", torch.cuda.device_count())\n"
   ]
  },
  {
   "cell_type": "code",
   "execution_count": 2,
   "metadata": {
    "execution": {
     "iopub.execute_input": "2025-08-28T10:23:30.266379Z",
     "iopub.status.busy": "2025-08-28T10:23:30.265782Z",
     "iopub.status.idle": "2025-08-28T10:23:37.049548Z",
     "shell.execute_reply": "2025-08-28T10:23:37.048888Z",
     "shell.execute_reply.started": "2025-08-28T10:23:30.266360Z"
    },
    "trusted": true
   },
   "outputs": [
    {
     "name": "stdout",
     "output_type": "stream",
     "text": [
      "Файлы загружены успешно.\n",
      "Размерности датасета\n",
      "videos_mult_mask (122, 54, 224, 224, 1)\n",
      "labels (206, 3)\n"
     ]
    }
   ],
   "source": [
    "# Загрузка данных\n",
    "project_dir = '/kaggle/input/mephi-ct-trainpack/'\n",
    "\n",
    "videos_mult_mask_file = os.path.join(project_dir, 'videos_mult_mask_14082025.npy')\n",
    "labels_file = os.path.join(project_dir, 'labels_220425 (1).npy')\n",
    "\n",
    "try:\n",
    "    videos_mult_mask = np.load(videos_mult_mask_file)\n",
    "    labels = np.load(labels_file)\n",
    "    print(\"Файлы загружены успешно.\")\n",
    "except FileNotFoundError:\n",
    "    print(\"Файлы не найдены. Проверьте правильность пути.\")\n",
    "\n",
    "print(\"Размерности датасета\")\n",
    "print(\"videos_mult_mask\", videos_mult_mask.shape)\n",
    "print(\"labels\", labels.shape)"
   ]
  },
  {
   "cell_type": "code",
   "execution_count": null,
   "metadata": {
    "execution": {
     "iopub.execute_input": "2025-08-28T10:23:37.050616Z",
     "iopub.status.busy": "2025-08-28T10:23:37.050262Z",
     "iopub.status.idle": "2025-08-28T10:23:38.707156Z",
     "shell.execute_reply": "2025-08-28T10:23:38.706398Z",
     "shell.execute_reply.started": "2025-08-28T10:23:37.050569Z"
    },
    "trusted": true
   },
   "outputs": [
    {
     "name": "stdout",
     "output_type": "stream",
     "text": [
      "Train: (77, 54, 224, 224, 1), (77, 3)\n",
      "Val: (20, 54, 224, 224, 1), (20, 3)\n",
      "Test: (25, 54, 224, 224, 1), (25, 3)\n"
     ]
    }
   ],
   "source": [
    "# Фильтр по меткам\n",
    "valid_index = np.sum(labels, axis=1) == 1\n",
    "labels = labels[valid_index]\n",
    "\n",
    "\n",
    "# Сначала разделим на train+val и test\n",
    "X_train_val, X_test, y_train_val, y_test = train_test_split(\n",
    "    videos_mult_mask, labels, test_size=0.2, random_state=42, stratify=labels\n",
    ")\n",
    "\n",
    "# Затем разделим train+val на train и val\n",
    "X_train, X_val, y_train, y_val = train_test_split(\n",
    "    X_train_val, y_train_val, test_size=0.2, random_state=42, stratify=y_train_val\n",
    ")\n",
    "\n",
    "print(f\"Train: {X_train.shape}, {y_train.shape}\")\n",
    "print(f\"Val: {X_val.shape}, {y_val.shape}\")\n",
    "print(f\"Test: {X_test.shape}, {y_test.shape}\")"
   ]
  },
  {
   "cell_type": "code",
   "execution_count": 4,
   "metadata": {
    "execution": {
     "iopub.execute_input": "2025-08-28T10:23:38.709116Z",
     "iopub.status.busy": "2025-08-28T10:23:38.708907Z",
     "iopub.status.idle": "2025-08-28T10:23:38.713732Z",
     "shell.execute_reply": "2025-08-28T10:23:38.713089Z",
     "shell.execute_reply.started": "2025-08-28T10:23:38.709100Z"
    },
    "trusted": true
   },
   "outputs": [],
   "source": [
    "# Преобразование данных для 3D CNN\n",
    "X_train = X_train[..., 0]\n",
    "X_val = X_val[..., 0]\n",
    "X_test = X_test[..., 0]\n",
    "\n",
    "X_train = np.expand_dims(X_train, axis=1)\n",
    "X_val = np.expand_dims(X_val, axis=1)\n",
    "X_test = np.expand_dims(X_test, axis=1)"
   ]
  },
  {
   "cell_type": "code",
   "execution_count": null,
   "metadata": {
    "execution": {
     "iopub.execute_input": "2025-08-28T10:23:38.714570Z",
     "iopub.status.busy": "2025-08-28T10:23:38.714348Z",
     "iopub.status.idle": "2025-08-28T10:23:38.729892Z",
     "shell.execute_reply": "2025-08-28T10:23:38.729123Z",
     "shell.execute_reply.started": "2025-08-28T10:23:38.714543Z"
    },
    "trusted": true
   },
   "outputs": [],
   "source": [
    "# Аугментации для 3D данных\n",
    "train_transform = transforms.Compose([\n",
    "    transforms.Lambda(lambda x: torch.tensor(x, dtype=torch.float32)),\n",
    "    transforms.RandomAffine(degrees=15, translate=(0.1, 0.1), scale=(0.9, 1.1)),\n",
    "    transforms.RandomHorizontalFlip(p=0.5),\n",
    "    transforms.Lambda(lambda x: x / 255.0),\n",
    "    transforms.Normalize(mean=[0.5], std=[0.5]),\n",
    "])\n",
    "\n",
    "test_transform = transforms.Compose([\n",
    "    transforms.Lambda(lambda x: torch.tensor(x, dtype=torch.float32) / 255.0),\n",
    "    transforms.Normalize(mean=[0.5], std=[0.5]),\n",
    "])"
   ]
  },
  {
   "cell_type": "code",
   "execution_count": null,
   "metadata": {
    "execution": {
     "iopub.execute_input": "2025-08-28T10:23:38.730848Z",
     "iopub.status.busy": "2025-08-28T10:23:38.730622Z",
     "iopub.status.idle": "2025-08-28T10:23:38.747239Z",
     "shell.execute_reply": "2025-08-28T10:23:38.746637Z",
     "shell.execute_reply.started": "2025-08-28T10:23:38.730832Z"
    },
    "trusted": true
   },
   "outputs": [],
   "source": [
    "# Создание Dataset для 3D данных\n",
    "class CT3DDataset(Dataset):\n",
    "    def __init__(self, X, y, transform=None):\n",
    "        self.X = X\n",
    "        self.y = y\n",
    "        self.transform = transform\n",
    "        \n",
    "    def __len__(self):\n",
    "        return len(self.X)\n",
    "    \n",
    "    def __getitem__(self, idx):\n",
    "        volume = self.X[idx]  \n",
    "        label = self.y[idx]\n",
    "        \n",
    "        if self.transform:\n",
    "            volume = self.transform(volume)\n",
    "        else:\n",
    "            volume = torch.tensor(volume, dtype=torch.float32)\n",
    "            \n",
    "        return volume, torch.tensor(label, dtype=torch.float32)"
   ]
  },
  {
   "cell_type": "code",
   "execution_count": 7,
   "metadata": {
    "execution": {
     "iopub.execute_input": "2025-08-28T10:23:38.748089Z",
     "iopub.status.busy": "2025-08-28T10:23:38.747896Z",
     "iopub.status.idle": "2025-08-28T10:23:38.761814Z",
     "shell.execute_reply": "2025-08-28T10:23:38.761114Z",
     "shell.execute_reply.started": "2025-08-28T10:23:38.748074Z"
    },
    "trusted": true
   },
   "outputs": [],
   "source": [
    "class_counts = np.sum(y_train, axis=0)\n",
    "class_weights = 1. / class_counts\n",
    "sample_weights = class_weights[np.argmax(y_train, axis=1)]\n",
    "sampler = WeightedRandomSampler(sample_weights, len(sample_weights), replacement=True)\n",
    "\n",
    "train_dataset = CT3DDataset(X_train, y_train, transform=train_transform)\n",
    "val_dataset = CT3DDataset(X_val, y_val, transform=test_transform)\n",
    "test_dataset = CT3DDataset(X_test, y_test, transform=test_transform)\n",
    "\n",
    "train_loader = DataLoader(train_dataset, batch_size=4, sampler=sampler)\n",
    "val_loader = DataLoader(val_dataset, batch_size=4, shuffle=False)\n",
    "test_loader = DataLoader(test_dataset, batch_size=4, shuffle=False)"
   ]
  },
  {
   "cell_type": "code",
   "execution_count": null,
   "metadata": {
    "execution": {
     "iopub.execute_input": "2025-08-28T10:23:38.762787Z",
     "iopub.status.busy": "2025-08-28T10:23:38.762533Z",
     "iopub.status.idle": "2025-08-28T10:23:38.779700Z",
     "shell.execute_reply": "2025-08-28T10:23:38.779080Z",
     "shell.execute_reply.started": "2025-08-28T10:23:38.762763Z"
    },
    "trusted": true
   },
   "outputs": [],
   "source": [
    "class Simple3DCNN(nn.Module):\n",
    "    def __init__(self, num_classes=3):\n",
    "        super(Simple3DCNN, self).__init__()\n",
    "        self.features = nn.Sequential(\n",
    "            nn.Conv3d(1, 32, kernel_size=3, padding=1),\n",
    "            nn.ReLU(),\n",
    "            nn.MaxPool3d(kernel_size=2),\n",
    "            \n",
    "            nn.Conv3d(32, 64, kernel_size=3, padding=1),\n",
    "            nn.ReLU(),\n",
    "            nn.MaxPool3d(kernel_size=2),\n",
    "            \n",
    "            nn.Conv3d(64, 128, kernel_size=3, padding=1),\n",
    "            nn.ReLU(),\n",
    "            nn.MaxPool3d(kernel_size=2),\n",
    "        )\n",
    "        \n",
    "        \n",
    "        with torch.no_grad():\n",
    "            sample = torch.randn(1, 1, 54, 224, 224)\n",
    "            features = self.features(sample)\n",
    "            linear_input_size = features.view(features.size(0), -1).size(1)\n",
    "        \n",
    "        self.classifier = nn.Sequential(\n",
    "            nn.Dropout(0.5),\n",
    "            nn.Linear(linear_input_size, 512),\n",
    "            nn.ReLU(),\n",
    "            nn.Dropout(0.5),\n",
    "            nn.Linear(512, num_classes)\n",
    "        )\n",
    "    \n",
    "    def forward(self, x):\n",
    "        x = self.features(x)\n",
    "        x = x.view(x.size(0), -1)\n",
    "        x = self.classifier(x)\n",
    "        return x"
   ]
  },
  {
   "cell_type": "code",
   "execution_count": 9,
   "metadata": {
    "execution": {
     "iopub.execute_input": "2025-08-28T10:23:38.780697Z",
     "iopub.status.busy": "2025-08-28T10:23:38.780415Z",
     "iopub.status.idle": "2025-08-28T10:23:43.279145Z",
     "shell.execute_reply": "2025-08-28T10:23:43.278394Z",
     "shell.execute_reply.started": "2025-08-28T10:23:38.780677Z"
    },
    "trusted": true
   },
   "outputs": [],
   "source": [
    "# Инициализация модели\n",
    "device = torch.device(\"cuda\" if torch.cuda.is_available() else \"cpu\")\n",
    "model = Simple3DCNN(num_classes=3).to(device)"
   ]
  },
  {
   "cell_type": "code",
   "execution_count": null,
   "metadata": {
    "execution": {
     "iopub.execute_input": "2025-08-28T10:23:43.281631Z",
     "iopub.status.busy": "2025-08-28T10:23:43.281345Z",
     "iopub.status.idle": "2025-08-28T10:23:43.290190Z",
     "shell.execute_reply": "2025-08-28T10:23:43.289623Z",
     "shell.execute_reply.started": "2025-08-28T10:23:43.281613Z"
    },
    "trusted": true
   },
   "outputs": [],
   "source": [
    "def train_model(model, train_loader, val_loader, criterion, optimizer, num_epochs=25):\n",
    "    train_losses = []\n",
    "    val_losses = []\n",
    "    best_acc = 0.0\n",
    "    best_model_wts = None\n",
    "\n",
    "    for epoch in range(num_epochs):\n",
    "        model.train()\n",
    "        running_loss = 0.0\n",
    "        all_preds = []\n",
    "        all_labels = []\n",
    "\n",
    "        for inputs, labels in tqdm(train_loader):\n",
    "            inputs = inputs.to(device)\n",
    "            labels = labels.to(device).argmax(dim=1)\n",
    "\n",
    "            optimizer.zero_grad()\n",
    "            outputs = model(inputs)\n",
    "            loss = criterion(outputs, labels)\n",
    "            loss.backward()\n",
    "            optimizer.step()\n",
    "\n",
    "            running_loss += loss.item() * inputs.size(0)\n",
    "            all_preds.extend(torch.argmax(outputs, 1).cpu().numpy())\n",
    "            all_labels.extend(labels.cpu().numpy())\n",
    "\n",
    "        epoch_loss = running_loss / len(train_loader.dataset)\n",
    "        train_losses.append(epoch_loss)\n",
    "        train_acc = (torch.tensor(all_preds) == torch.tensor(all_labels)).float().mean().item()\n",
    "\n",
    "        \n",
    "        model.eval()\n",
    "        val_loss = 0.0\n",
    "        val_preds = []\n",
    "        val_labels = []\n",
    "\n",
    "        with torch.no_grad():\n",
    "            for inputs, labels in val_loader:\n",
    "                inputs = inputs.to(device)\n",
    "                labels = labels.to(device).argmax(dim=1)\n",
    "                \n",
    "                outputs = model(inputs)\n",
    "                loss = criterion(outputs, labels)\n",
    "                val_loss += loss.item() * inputs.size(0)\n",
    "                \n",
    "                val_preds.extend(torch.argmax(outputs, 1).cpu().numpy())\n",
    "                val_labels.extend(labels.cpu().numpy())\n",
    "\n",
    "        val_loss = val_loss / len(val_loader.dataset)\n",
    "        val_losses.append(val_loss)\n",
    "        val_acc = (torch.tensor(val_preds) == torch.tensor(val_labels)).float().mean().item()\n",
    "\n",
    "        print(f'Epoch {epoch+1}/{num_epochs}')\n",
    "        print(f'Train Loss: {epoch_loss:.4f} Acc: {train_acc:.4f}')\n",
    "        print(f'Val Loss: {val_loss:.4f} Acc: {val_acc:.4f}')\n",
    "\n",
    "        if val_acc > best_acc:\n",
    "            best_acc = val_acc\n",
    "            best_model_wts = model.state_dict().copy()\n",
    "\n",
    "    model.load_state_dict(best_model_wts)\n",
    "    return model, train_losses, val_losses"
   ]
  },
  {
   "cell_type": "code",
   "execution_count": null,
   "metadata": {
    "execution": {
     "iopub.execute_input": "2025-08-28T10:23:43.310106Z",
     "iopub.status.busy": "2025-08-28T10:23:43.309822Z",
     "iopub.status.idle": "2025-08-28T10:31:04.353900Z",
     "shell.execute_reply": "2025-08-28T10:31:04.353110Z",
     "shell.execute_reply.started": "2025-08-28T10:23:43.310089Z"
    },
    "trusted": true
   },
   "outputs": [
    {
     "name": "stderr",
     "output_type": "stream",
     "text": [
      "100%|██████████| 20/20 [00:08<00:00,  2.25it/s]\n"
     ]
    },
    {
     "name": "stdout",
     "output_type": "stream",
     "text": [
      "Epoch 1/50\n",
      "Train Loss: 1.3302 Acc: 0.2987\n",
      "Val Loss: 1.1013 Acc: 0.3500\n"
     ]
    },
    {
     "name": "stderr",
     "output_type": "stream",
     "text": [
      "100%|██████████| 20/20 [00:08<00:00,  2.44it/s]\n"
     ]
    },
    {
     "name": "stdout",
     "output_type": "stream",
     "text": [
      "Epoch 2/50\n",
      "Train Loss: 1.1036 Acc: 0.2987\n",
      "Val Loss: 1.0929 Acc: 0.3500\n"
     ]
    },
    {
     "name": "stderr",
     "output_type": "stream",
     "text": [
      "100%|██████████| 20/20 [00:08<00:00,  2.47it/s]\n"
     ]
    },
    {
     "name": "stdout",
     "output_type": "stream",
     "text": [
      "Epoch 3/50\n",
      "Train Loss: 1.0984 Acc: 0.3506\n",
      "Val Loss: 1.0948 Acc: 0.3500\n"
     ]
    },
    {
     "name": "stderr",
     "output_type": "stream",
     "text": [
      "100%|██████████| 20/20 [00:08<00:00,  2.45it/s]\n"
     ]
    },
    {
     "name": "stdout",
     "output_type": "stream",
     "text": [
      "Epoch 4/50\n",
      "Train Loss: 1.0974 Acc: 0.3506\n",
      "Val Loss: 1.0389 Acc: 0.5000\n"
     ]
    },
    {
     "name": "stderr",
     "output_type": "stream",
     "text": [
      "100%|██████████| 20/20 [00:08<00:00,  2.43it/s]\n"
     ]
    },
    {
     "name": "stdout",
     "output_type": "stream",
     "text": [
      "Epoch 5/50\n",
      "Train Loss: 1.1149 Acc: 0.2987\n",
      "Val Loss: 1.0384 Acc: 0.7000\n"
     ]
    },
    {
     "name": "stderr",
     "output_type": "stream",
     "text": [
      "100%|██████████| 20/20 [00:08<00:00,  2.47it/s]\n"
     ]
    },
    {
     "name": "stdout",
     "output_type": "stream",
     "text": [
      "Epoch 6/50\n",
      "Train Loss: 1.0739 Acc: 0.3896\n",
      "Val Loss: 1.0891 Acc: 0.4500\n"
     ]
    },
    {
     "name": "stderr",
     "output_type": "stream",
     "text": [
      "100%|██████████| 20/20 [00:08<00:00,  2.44it/s]\n"
     ]
    },
    {
     "name": "stdout",
     "output_type": "stream",
     "text": [
      "Epoch 7/50\n",
      "Train Loss: 1.1287 Acc: 0.3896\n",
      "Val Loss: 0.8776 Acc: 0.6500\n"
     ]
    },
    {
     "name": "stderr",
     "output_type": "stream",
     "text": [
      "100%|██████████| 20/20 [00:08<00:00,  2.44it/s]\n"
     ]
    },
    {
     "name": "stdout",
     "output_type": "stream",
     "text": [
      "Epoch 8/50\n",
      "Train Loss: 1.1166 Acc: 0.4026\n",
      "Val Loss: 1.0094 Acc: 0.6500\n"
     ]
    },
    {
     "name": "stderr",
     "output_type": "stream",
     "text": [
      "100%|██████████| 20/20 [00:08<00:00,  2.45it/s]\n"
     ]
    },
    {
     "name": "stdout",
     "output_type": "stream",
     "text": [
      "Epoch 9/50\n",
      "Train Loss: 1.0874 Acc: 0.4286\n",
      "Val Loss: 0.9473 Acc: 0.7000\n"
     ]
    },
    {
     "name": "stderr",
     "output_type": "stream",
     "text": [
      "100%|██████████| 20/20 [00:08<00:00,  2.45it/s]\n"
     ]
    },
    {
     "name": "stdout",
     "output_type": "stream",
     "text": [
      "Epoch 10/50\n",
      "Train Loss: 1.0667 Acc: 0.5844\n",
      "Val Loss: 0.9070 Acc: 0.7000\n"
     ]
    },
    {
     "name": "stderr",
     "output_type": "stream",
     "text": [
      "100%|██████████| 20/20 [00:08<00:00,  2.43it/s]\n"
     ]
    },
    {
     "name": "stdout",
     "output_type": "stream",
     "text": [
      "Epoch 11/50\n",
      "Train Loss: 1.0515 Acc: 0.4805\n",
      "Val Loss: 1.2772 Acc: 0.2500\n"
     ]
    },
    {
     "name": "stderr",
     "output_type": "stream",
     "text": [
      "100%|██████████| 20/20 [00:08<00:00,  2.45it/s]\n"
     ]
    },
    {
     "name": "stdout",
     "output_type": "stream",
     "text": [
      "Epoch 12/50\n",
      "Train Loss: 1.0303 Acc: 0.4935\n",
      "Val Loss: 0.9566 Acc: 0.5500\n"
     ]
    },
    {
     "name": "stderr",
     "output_type": "stream",
     "text": [
      "100%|██████████| 20/20 [00:08<00:00,  2.45it/s]\n"
     ]
    },
    {
     "name": "stdout",
     "output_type": "stream",
     "text": [
      "Epoch 13/50\n",
      "Train Loss: 1.0924 Acc: 0.4286\n",
      "Val Loss: 0.9653 Acc: 0.6500\n"
     ]
    },
    {
     "name": "stderr",
     "output_type": "stream",
     "text": [
      "100%|██████████| 20/20 [00:08<00:00,  2.43it/s]\n"
     ]
    },
    {
     "name": "stdout",
     "output_type": "stream",
     "text": [
      "Epoch 14/50\n",
      "Train Loss: 1.0379 Acc: 0.4416\n",
      "Val Loss: 1.0264 Acc: 0.7000\n"
     ]
    },
    {
     "name": "stderr",
     "output_type": "stream",
     "text": [
      "100%|██████████| 20/20 [00:08<00:00,  2.46it/s]\n"
     ]
    },
    {
     "name": "stdout",
     "output_type": "stream",
     "text": [
      "Epoch 15/50\n",
      "Train Loss: 0.9996 Acc: 0.5844\n",
      "Val Loss: 1.0235 Acc: 0.6500\n"
     ]
    },
    {
     "name": "stderr",
     "output_type": "stream",
     "text": [
      "100%|██████████| 20/20 [00:08<00:00,  2.43it/s]\n"
     ]
    },
    {
     "name": "stdout",
     "output_type": "stream",
     "text": [
      "Epoch 16/50\n",
      "Train Loss: 1.0772 Acc: 0.4935\n",
      "Val Loss: 1.0422 Acc: 0.6500\n"
     ]
    },
    {
     "name": "stderr",
     "output_type": "stream",
     "text": [
      "100%|██████████| 20/20 [00:08<00:00,  2.43it/s]\n"
     ]
    },
    {
     "name": "stdout",
     "output_type": "stream",
     "text": [
      "Epoch 17/50\n",
      "Train Loss: 1.0622 Acc: 0.4286\n",
      "Val Loss: 1.0480 Acc: 0.7000\n"
     ]
    },
    {
     "name": "stderr",
     "output_type": "stream",
     "text": [
      "100%|██████████| 20/20 [00:08<00:00,  2.43it/s]\n"
     ]
    },
    {
     "name": "stdout",
     "output_type": "stream",
     "text": [
      "Epoch 18/50\n",
      "Train Loss: 0.9570 Acc: 0.5455\n",
      "Val Loss: 0.9942 Acc: 0.6000\n"
     ]
    },
    {
     "name": "stderr",
     "output_type": "stream",
     "text": [
      "100%|██████████| 20/20 [00:08<00:00,  2.43it/s]\n"
     ]
    },
    {
     "name": "stdout",
     "output_type": "stream",
     "text": [
      "Epoch 19/50\n",
      "Train Loss: 0.9098 Acc: 0.5714\n",
      "Val Loss: 1.0309 Acc: 0.4000\n"
     ]
    },
    {
     "name": "stderr",
     "output_type": "stream",
     "text": [
      "100%|██████████| 20/20 [00:08<00:00,  2.45it/s]\n"
     ]
    },
    {
     "name": "stdout",
     "output_type": "stream",
     "text": [
      "Epoch 20/50\n",
      "Train Loss: 1.1297 Acc: 0.4286\n",
      "Val Loss: 1.0321 Acc: 0.7000\n"
     ]
    },
    {
     "name": "stderr",
     "output_type": "stream",
     "text": [
      "100%|██████████| 20/20 [00:08<00:00,  2.42it/s]\n"
     ]
    },
    {
     "name": "stdout",
     "output_type": "stream",
     "text": [
      "Epoch 21/50\n",
      "Train Loss: 0.9445 Acc: 0.5974\n",
      "Val Loss: 1.0303 Acc: 0.5000\n"
     ]
    },
    {
     "name": "stderr",
     "output_type": "stream",
     "text": [
      "100%|██████████| 20/20 [00:08<00:00,  2.44it/s]\n"
     ]
    },
    {
     "name": "stdout",
     "output_type": "stream",
     "text": [
      "Epoch 22/50\n",
      "Train Loss: 0.9005 Acc: 0.5584\n",
      "Val Loss: 1.0361 Acc: 0.6000\n"
     ]
    },
    {
     "name": "stderr",
     "output_type": "stream",
     "text": [
      "100%|██████████| 20/20 [00:08<00:00,  2.46it/s]\n"
     ]
    },
    {
     "name": "stdout",
     "output_type": "stream",
     "text": [
      "Epoch 23/50\n",
      "Train Loss: 1.0010 Acc: 0.5325\n",
      "Val Loss: 1.0642 Acc: 0.6000\n"
     ]
    },
    {
     "name": "stderr",
     "output_type": "stream",
     "text": [
      "100%|██████████| 20/20 [00:08<00:00,  2.42it/s]\n"
     ]
    },
    {
     "name": "stdout",
     "output_type": "stream",
     "text": [
      "Epoch 24/50\n",
      "Train Loss: 0.8612 Acc: 0.6753\n",
      "Val Loss: 1.2017 Acc: 0.4500\n"
     ]
    },
    {
     "name": "stderr",
     "output_type": "stream",
     "text": [
      "100%|██████████| 20/20 [00:08<00:00,  2.42it/s]\n"
     ]
    },
    {
     "name": "stdout",
     "output_type": "stream",
     "text": [
      "Epoch 25/50\n",
      "Train Loss: 0.9418 Acc: 0.5065\n",
      "Val Loss: 1.1168 Acc: 0.5000\n"
     ]
    },
    {
     "name": "stderr",
     "output_type": "stream",
     "text": [
      "100%|██████████| 20/20 [00:08<00:00,  2.43it/s]\n"
     ]
    },
    {
     "name": "stdout",
     "output_type": "stream",
     "text": [
      "Epoch 26/50\n",
      "Train Loss: 0.9968 Acc: 0.5065\n",
      "Val Loss: 1.0628 Acc: 0.5500\n"
     ]
    },
    {
     "name": "stderr",
     "output_type": "stream",
     "text": [
      "100%|██████████| 20/20 [00:08<00:00,  2.40it/s]\n"
     ]
    },
    {
     "name": "stdout",
     "output_type": "stream",
     "text": [
      "Epoch 27/50\n",
      "Train Loss: 0.9537 Acc: 0.5714\n",
      "Val Loss: 1.0724 Acc: 0.6500\n"
     ]
    },
    {
     "name": "stderr",
     "output_type": "stream",
     "text": [
      "100%|██████████| 20/20 [00:08<00:00,  2.43it/s]\n"
     ]
    },
    {
     "name": "stdout",
     "output_type": "stream",
     "text": [
      "Epoch 28/50\n",
      "Train Loss: 0.9520 Acc: 0.5195\n",
      "Val Loss: 1.0873 Acc: 0.6500\n"
     ]
    },
    {
     "name": "stderr",
     "output_type": "stream",
     "text": [
      "100%|██████████| 20/20 [00:08<00:00,  2.40it/s]\n"
     ]
    },
    {
     "name": "stdout",
     "output_type": "stream",
     "text": [
      "Epoch 29/50\n",
      "Train Loss: 0.9735 Acc: 0.5195\n",
      "Val Loss: 1.0297 Acc: 0.5000\n"
     ]
    },
    {
     "name": "stderr",
     "output_type": "stream",
     "text": [
      "100%|██████████| 20/20 [00:08<00:00,  2.41it/s]\n"
     ]
    },
    {
     "name": "stdout",
     "output_type": "stream",
     "text": [
      "Epoch 30/50\n",
      "Train Loss: 0.9196 Acc: 0.5584\n",
      "Val Loss: 1.0589 Acc: 0.6500\n"
     ]
    },
    {
     "name": "stderr",
     "output_type": "stream",
     "text": [
      "100%|██████████| 20/20 [00:08<00:00,  2.40it/s]\n"
     ]
    },
    {
     "name": "stdout",
     "output_type": "stream",
     "text": [
      "Epoch 31/50\n",
      "Train Loss: 0.9427 Acc: 0.5584\n",
      "Val Loss: 1.1108 Acc: 0.6000\n"
     ]
    },
    {
     "name": "stderr",
     "output_type": "stream",
     "text": [
      "100%|██████████| 20/20 [00:08<00:00,  2.45it/s]\n"
     ]
    },
    {
     "name": "stdout",
     "output_type": "stream",
     "text": [
      "Epoch 32/50\n",
      "Train Loss: 0.9340 Acc: 0.5325\n",
      "Val Loss: 1.1056 Acc: 0.5500\n"
     ]
    },
    {
     "name": "stderr",
     "output_type": "stream",
     "text": [
      "100%|██████████| 20/20 [00:08<00:00,  2.42it/s]\n"
     ]
    },
    {
     "name": "stdout",
     "output_type": "stream",
     "text": [
      "Epoch 33/50\n",
      "Train Loss: 0.8623 Acc: 0.6364\n",
      "Val Loss: 1.1152 Acc: 0.6000\n"
     ]
    },
    {
     "name": "stderr",
     "output_type": "stream",
     "text": [
      "100%|██████████| 20/20 [00:08<00:00,  2.43it/s]\n"
     ]
    },
    {
     "name": "stdout",
     "output_type": "stream",
     "text": [
      "Epoch 34/50\n",
      "Train Loss: 0.9345 Acc: 0.5584\n",
      "Val Loss: 1.0422 Acc: 0.6500\n"
     ]
    },
    {
     "name": "stderr",
     "output_type": "stream",
     "text": [
      "100%|██████████| 20/20 [00:08<00:00,  2.43it/s]\n"
     ]
    },
    {
     "name": "stdout",
     "output_type": "stream",
     "text": [
      "Epoch 35/50\n",
      "Train Loss: 0.8870 Acc: 0.6234\n",
      "Val Loss: 1.0173 Acc: 0.6500\n"
     ]
    },
    {
     "name": "stderr",
     "output_type": "stream",
     "text": [
      "100%|██████████| 20/20 [00:08<00:00,  2.41it/s]\n"
     ]
    },
    {
     "name": "stdout",
     "output_type": "stream",
     "text": [
      "Epoch 36/50\n",
      "Train Loss: 0.8544 Acc: 0.6883\n",
      "Val Loss: 1.1152 Acc: 0.6000\n"
     ]
    },
    {
     "name": "stderr",
     "output_type": "stream",
     "text": [
      "100%|██████████| 20/20 [00:08<00:00,  2.45it/s]\n"
     ]
    },
    {
     "name": "stdout",
     "output_type": "stream",
     "text": [
      "Epoch 37/50\n",
      "Train Loss: 1.0194 Acc: 0.5065\n",
      "Val Loss: 1.0128 Acc: 0.6000\n"
     ]
    },
    {
     "name": "stderr",
     "output_type": "stream",
     "text": [
      "100%|██████████| 20/20 [00:08<00:00,  2.45it/s]\n"
     ]
    },
    {
     "name": "stdout",
     "output_type": "stream",
     "text": [
      "Epoch 38/50\n",
      "Train Loss: 0.7911 Acc: 0.7013\n",
      "Val Loss: 1.0482 Acc: 0.6000\n"
     ]
    },
    {
     "name": "stderr",
     "output_type": "stream",
     "text": [
      "100%|██████████| 20/20 [00:08<00:00,  2.43it/s]\n"
     ]
    },
    {
     "name": "stdout",
     "output_type": "stream",
     "text": [
      "Epoch 39/50\n",
      "Train Loss: 0.9135 Acc: 0.5325\n",
      "Val Loss: 1.0832 Acc: 0.6500\n"
     ]
    },
    {
     "name": "stderr",
     "output_type": "stream",
     "text": [
      "100%|██████████| 20/20 [00:08<00:00,  2.43it/s]\n"
     ]
    },
    {
     "name": "stdout",
     "output_type": "stream",
     "text": [
      "Epoch 40/50\n",
      "Train Loss: 0.9069 Acc: 0.6234\n",
      "Val Loss: 1.0440 Acc: 0.6500\n"
     ]
    },
    {
     "name": "stderr",
     "output_type": "stream",
     "text": [
      "100%|██████████| 20/20 [00:08<00:00,  2.41it/s]\n"
     ]
    },
    {
     "name": "stdout",
     "output_type": "stream",
     "text": [
      "Epoch 41/50\n",
      "Train Loss: 0.7858 Acc: 0.6753\n",
      "Val Loss: 1.1093 Acc: 0.5500\n"
     ]
    },
    {
     "name": "stderr",
     "output_type": "stream",
     "text": [
      "100%|██████████| 20/20 [00:08<00:00,  2.44it/s]\n"
     ]
    },
    {
     "name": "stdout",
     "output_type": "stream",
     "text": [
      "Epoch 42/50\n",
      "Train Loss: 0.7699 Acc: 0.7273\n",
      "Val Loss: 1.0324 Acc: 0.6500\n"
     ]
    },
    {
     "name": "stderr",
     "output_type": "stream",
     "text": [
      "100%|██████████| 20/20 [00:08<00:00,  2.44it/s]\n"
     ]
    },
    {
     "name": "stdout",
     "output_type": "stream",
     "text": [
      "Epoch 43/50\n",
      "Train Loss: 0.8925 Acc: 0.5974\n",
      "Val Loss: 1.1236 Acc: 0.5500\n"
     ]
    },
    {
     "name": "stderr",
     "output_type": "stream",
     "text": [
      "100%|██████████| 20/20 [00:08<00:00,  2.45it/s]\n"
     ]
    },
    {
     "name": "stdout",
     "output_type": "stream",
     "text": [
      "Epoch 44/50\n",
      "Train Loss: 0.8822 Acc: 0.5065\n",
      "Val Loss: 1.1722 Acc: 0.5500\n"
     ]
    },
    {
     "name": "stderr",
     "output_type": "stream",
     "text": [
      "100%|██████████| 20/20 [00:08<00:00,  2.46it/s]\n"
     ]
    },
    {
     "name": "stdout",
     "output_type": "stream",
     "text": [
      "Epoch 45/50\n",
      "Train Loss: 0.7253 Acc: 0.6753\n",
      "Val Loss: 1.0830 Acc: 0.6500\n"
     ]
    },
    {
     "name": "stderr",
     "output_type": "stream",
     "text": [
      "100%|██████████| 20/20 [00:08<00:00,  2.43it/s]\n"
     ]
    },
    {
     "name": "stdout",
     "output_type": "stream",
     "text": [
      "Epoch 46/50\n",
      "Train Loss: 0.7625 Acc: 0.7273\n",
      "Val Loss: 1.0417 Acc: 0.6500\n"
     ]
    },
    {
     "name": "stderr",
     "output_type": "stream",
     "text": [
      "100%|██████████| 20/20 [00:08<00:00,  2.44it/s]\n"
     ]
    },
    {
     "name": "stdout",
     "output_type": "stream",
     "text": [
      "Epoch 47/50\n",
      "Train Loss: 0.7249 Acc: 0.6883\n",
      "Val Loss: 1.0979 Acc: 0.6500\n"
     ]
    },
    {
     "name": "stderr",
     "output_type": "stream",
     "text": [
      "100%|██████████| 20/20 [00:08<00:00,  2.46it/s]\n"
     ]
    },
    {
     "name": "stdout",
     "output_type": "stream",
     "text": [
      "Epoch 48/50\n",
      "Train Loss: 1.1316 Acc: 0.5325\n",
      "Val Loss: 0.9443 Acc: 0.7000\n"
     ]
    },
    {
     "name": "stderr",
     "output_type": "stream",
     "text": [
      "100%|██████████| 20/20 [00:08<00:00,  2.44it/s]\n"
     ]
    },
    {
     "name": "stdout",
     "output_type": "stream",
     "text": [
      "Epoch 49/50\n",
      "Train Loss: 0.8617 Acc: 0.6753\n",
      "Val Loss: 1.0710 Acc: 0.6000\n"
     ]
    },
    {
     "name": "stderr",
     "output_type": "stream",
     "text": [
      "100%|██████████| 20/20 [00:08<00:00,  2.45it/s]\n"
     ]
    },
    {
     "name": "stdout",
     "output_type": "stream",
     "text": [
      "Epoch 50/50\n",
      "Train Loss: 0.7903 Acc: 0.7013\n",
      "Val Loss: 1.0416 Acc: 0.6000\n"
     ]
    }
   ],
   "source": [
    "# Обучение модели с L2-регуляризацией (weight_decay=1e-5)\n",
    "criterion = nn.CrossEntropyLoss()\n",
    "optimizer = torch.optim.Adam(model.parameters(), lr=1e-4, weight_decay=1e-5)  \n",
    "\n",
    "model, train_losses, val_losses = train_model(\n",
    "    model, train_loader, val_loader, criterion, optimizer, num_epochs=50  \n",
    ")\n",
    "\n"
   ]
  },
  {
   "cell_type": "code",
   "execution_count": 13,
   "metadata": {
    "execution": {
     "iopub.execute_input": "2025-08-28T10:31:04.355088Z",
     "iopub.status.busy": "2025-08-28T10:31:04.354820Z",
     "iopub.status.idle": "2025-08-28T10:31:04.604916Z",
     "shell.execute_reply": "2025-08-28T10:31:04.604229Z",
     "shell.execute_reply.started": "2025-08-28T10:31:04.355064Z"
    },
    "trusted": true
   },
   "outputs": [
    {
     "data": {
      "image/png": "[encoded data removed]",
      "text/plain": [
       "<Figure size 1000x500 with 1 Axes>"
      ]
     },
     "metadata": {},
     "output_type": "display_data"
    }
   ],
   "source": [
    "plt.figure(figsize=(10, 5))\n",
    "plt.plot(train_losses, label='Training Loss')\n",
    "plt.plot(val_losses, label='Validation Loss')\n",
    "plt.xlabel('Epochs')\n",
    "plt.ylabel('Loss')\n",
    "plt.legend()\n",
    "plt.show()"
   ]
  },
  {
   "cell_type": "code",
   "execution_count": 14,
   "metadata": {
    "execution": {
     "iopub.execute_input": "2025-08-28T10:31:04.606277Z",
     "iopub.status.busy": "2025-08-28T10:31:04.605828Z",
     "iopub.status.idle": "2025-08-28T10:31:05.559866Z",
     "shell.execute_reply": "2025-08-28T10:31:05.559072Z",
     "shell.execute_reply.started": "2025-08-28T10:31:04.606250Z"
    },
    "trusted": true
   },
   "outputs": [
    {
     "name": "stdout",
     "output_type": "stream",
     "text": [
      "Classification Report:\n",
      "              precision    recall  f1-score   support\n",
      "\n",
      "     Class 0       0.75      0.67      0.71         9\n",
      "     Class 1       0.38      0.75      0.50         4\n",
      "     Class 2       1.00      0.75      0.86        12\n",
      "\n",
      "    accuracy                           0.72        25\n",
      "   macro avg       0.71      0.72      0.69        25\n",
      "weighted avg       0.81      0.72      0.75        25\n",
      "\n"
     ]
    },
    {
     "data": {
      "image/png": "[encoded data removed]",
      "text/plain": [
       "<Figure size 1000x800 with 2 Axes>"
      ]
     },
     "metadata": {},
     "output_type": "display_data"
    }
   ],
   "source": [
    "# Финальная оценка на тестовом наборе\n",
    "def evaluate_model(model, data_loader, criterion):\n",
    "    model.eval()\n",
    "    all_labels = []\n",
    "    all_preds = []\n",
    "    all_probs = []\n",
    "\n",
    "    with torch.no_grad():\n",
    "        for inputs, labels in data_loader:\n",
    "            inputs, labels = inputs.to(device), labels.to(device).float()\n",
    "            outputs = model(inputs)\n",
    "            probs = torch.softmax(outputs, dim=1)\n",
    "            preds = torch.argmax(probs, dim=1)\n",
    "            \n",
    "            all_labels.extend(labels.cpu().numpy())\n",
    "            all_preds.extend(preds.cpu().numpy())\n",
    "            all_probs.extend(probs.cpu().numpy())\n",
    "\n",
    "    all_labels = np.array(all_labels)\n",
    "    all_preds = np.array(all_preds)\n",
    "    all_probs = np.array(all_probs)\n",
    "\n",
    "    all_labels_classes = np.argmax(all_labels, axis=1)\n",
    "\n",
    "    print(\"Classification Report:\")\n",
    "    print(classification_report(all_labels_classes, all_preds, \n",
    "                                target_names=[f\"Class {i}\" for i in range(all_labels.shape[1])]))\n",
    "    \n",
    "    cm = confusion_matrix(all_labels_classes, all_preds)\n",
    "    plt.figure(figsize=(10, 8))\n",
    "    sns.heatmap(cm, annot=True, fmt=\"d\", cmap=\"Blues\",\n",
    "                xticklabels=[f\"Class {i}\" for i in range(all_labels.shape[1])],\n",
    "                yticklabels=[f\"Class {i}\" for i in range(all_labels.shape[1])])\n",
    "    plt.xlabel(\"Predicted Labels\")\n",
    "    plt.ylabel(\"True Labels\")\n",
    "    plt.title(\"Confusion Matrix\")\n",
    "    plt.show()\n",
    "    \n",
    "    return all_labels, all_preds, all_probs\n",
    "\n",
    "# Оценка на тестовом наборе\n",
    "all_labels, all_preds, all_probs = evaluate_model(model, test_loader, criterion)"
   ]
  },
  {
   "cell_type": "code",
   "execution_count": 15,
   "metadata": {
    "execution": {
     "iopub.execute_input": "2025-08-28T10:31:05.560974Z",
     "iopub.status.busy": "2025-08-28T10:31:05.560722Z",
     "iopub.status.idle": "2025-08-28T10:31:05.565128Z",
     "shell.execute_reply": "2025-08-28T10:31:05.564454Z",
     "shell.execute_reply.started": "2025-08-28T10:31:05.560950Z"
    },
    "trusted": true
   },
   "outputs": [],
   "source": []
  }
 ],
 "metadata": {
  "kaggle": {
   "accelerator": "gpu",
   "dataSources": [
    {
     "datasetId": 8104249,
     "sourceId": 12816208,
     "sourceType": "datasetVersion"
    }
   ],
   "isGpuEnabled": true,
   "isInternetEnabled": true,
   "language": "python",
   "sourceType": "notebook"
  },
  "kernelspec": {
   "display_name": "Python 3",
   "language": "python",
   "name": "python3"
  },
  "language_info": {
   "codemirror_mode": {
    "name": "ipython",
    "version": 3
   },
   "file_extension": ".py",
   "mimetype": "text/x-python",
   "name": "python",
   "nbconvert_exporter": "python",
   "pygments_lexer": "ipython3",
   "version": "3.11.13"
  }
 },
 "nbformat": 4,
 "nbformat_minor": 4
}
